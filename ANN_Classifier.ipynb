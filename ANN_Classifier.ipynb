{
 "cells": [
  {
   "cell_type": "code",
   "execution_count": 2,
   "metadata": {},
   "outputs": [
    {
     "name": "stdout",
     "output_type": "stream",
     "text": [
      "Num GPUs Available:  0\n"
     ]
    }
   ],
   "source": [
    "import tensorflow as tf\n",
    "print(\"Num GPUs Available: \", len(tf.config.experimental.list_physical_devices('GPU')))\n"
   ]
  },
  {
   "cell_type": "code",
   "execution_count": 2,
   "metadata": {},
   "outputs": [],
   "source": [
    "import pandas as pd\n",
    "import numpy as np\n",
    "import matplotlib.pyplot as plt"
   ]
  },
  {
   "cell_type": "code",
   "execution_count": 3,
   "metadata": {},
   "outputs": [
    {
     "data": {
      "text/plain": [
       "'2.3.1'"
      ]
     },
     "execution_count": 3,
     "metadata": {},
     "output_type": "execute_result"
    }
   ],
   "source": [
    "tf.__version__"
   ]
  },
  {
   "cell_type": "code",
   "execution_count": 4,
   "metadata": {},
   "outputs": [],
   "source": [
    "data = pd.read_csv('Churn_Modelling.csv')\n",
    "x = data.iloc[:,3:-1].values\n",
    "y = data.iloc[:,-1].values"
   ]
  },
  {
   "cell_type": "code",
   "execution_count": 5,
   "metadata": {},
   "outputs": [
    {
     "name": "stdout",
     "output_type": "stream",
     "text": [
      "[[619 'France' 'Female' ... 1 1 101348.88]\n",
      " [608 'Spain' 'Female' ... 0 1 112542.58]\n",
      " [502 'France' 'Female' ... 1 0 113931.57]\n",
      " ...\n",
      " [709 'France' 'Female' ... 0 1 42085.58]\n",
      " [772 'Germany' 'Male' ... 1 0 92888.52]\n",
      " [792 'France' 'Female' ... 1 0 38190.78]]\n"
     ]
    }
   ],
   "source": [
    "print(x)"
   ]
  },
  {
   "cell_type": "code",
   "execution_count": 6,
   "metadata": {},
   "outputs": [
    {
     "name": "stdout",
     "output_type": "stream",
     "text": [
      "[1 0 1 ... 1 1 0]\n"
     ]
    }
   ],
   "source": [
    "print(y)"
   ]
  },
  {
   "cell_type": "markdown",
   "metadata": {},
   "source": [
    "# Data Preprocessing"
   ]
  },
  {
   "cell_type": "markdown",
   "metadata": {},
   "source": [
    "## Encoding the Gender Variable"
   ]
  },
  {
   "cell_type": "code",
   "execution_count": 7,
   "metadata": {},
   "outputs": [],
   "source": [
    "# Mapping the categorical variables, we can also do mapping but new method, here we go!\n",
    "\n",
    "from sklearn.preprocessing import LabelEncoder\n",
    "le = LabelEncoder()\n",
    "x[:, 2] = le.fit_transform(x[:, 2])"
   ]
  },
  {
   "cell_type": "code",
   "execution_count": 8,
   "metadata": {},
   "outputs": [
    {
     "name": "stdout",
     "output_type": "stream",
     "text": [
      "[[619 'France' 0 ... 1 1 101348.88]\n",
      " [608 'Spain' 0 ... 0 1 112542.58]\n",
      " [502 'France' 0 ... 1 0 113931.57]\n",
      " ...\n",
      " [709 'France' 0 ... 0 1 42085.58]\n",
      " [772 'Germany' 1 ... 1 0 92888.52]\n",
      " [792 'France' 0 ... 1 0 38190.78]]\n"
     ]
    }
   ],
   "source": [
    "print(x) # it encoded Female to 0 and male to 1, the mapping purely machine based!"
   ]
  },
  {
   "cell_type": "markdown",
   "metadata": {},
   "source": [
    "## OneHotEncoding the Geography Variable"
   ]
  },
  {
   "cell_type": "code",
   "execution_count": 9,
   "metadata": {},
   "outputs": [],
   "source": [
    "from sklearn.compose import ColumnTransformer\n",
    "from sklearn.preprocessing import OneHotEncoder\n",
    "\n",
    "ct = ColumnTransformer(transformers=[('encoder', OneHotEncoder(),[1])], remainder='passthrough')\n",
    "x = np.array(ct.fit_transform(x))"
   ]
  },
  {
   "cell_type": "code",
   "execution_count": 10,
   "metadata": {},
   "outputs": [
    {
     "name": "stdout",
     "output_type": "stream",
     "text": [
      "[[1.0 0.0 0.0 ... 1 1 101348.88]\n",
      " [0.0 0.0 1.0 ... 0 1 112542.58]\n",
      " [1.0 0.0 0.0 ... 1 0 113931.57]\n",
      " ...\n",
      " [1.0 0.0 0.0 ... 0 1 42085.58]\n",
      " [0.0 1.0 0.0 ... 1 0 92888.52]\n",
      " [1.0 0.0 0.0 ... 1 0 38190.78]]\n"
     ]
    }
   ],
   "source": [
    "print(x)"
   ]
  },
  {
   "cell_type": "code",
   "execution_count": 11,
   "metadata": {},
   "outputs": [],
   "source": [
    "from sklearn.model_selection import train_test_split \n",
    "x_train, x_test, y_train, y_test = train_test_split(x,y, random_state=143, test_size=0.2, shuffle=True)"
   ]
  },
  {
   "cell_type": "markdown",
   "metadata": {},
   "source": [
    "## Feature Scaling"
   ]
  },
  {
   "cell_type": "code",
   "execution_count": 12,
   "metadata": {},
   "outputs": [],
   "source": [
    "# We will feature scale all the dummy variable too in DL\n",
    "\n",
    "from sklearn.preprocessing import StandardScaler\n",
    "scaler = StandardScaler()\n",
    "x_train_scaled = scaler.fit_transform(x_train)\n",
    "x_test_scaled = scaler.transform(x_test)"
   ]
  },
  {
   "cell_type": "markdown",
   "metadata": {},
   "source": [
    "# ANN"
   ]
  },
  {
   "cell_type": "code",
   "execution_count": 13,
   "metadata": {},
   "outputs": [],
   "source": [
    "model = tf.keras.models.Sequential()"
   ]
  },
  {
   "cell_type": "code",
   "execution_count": 14,
   "metadata": {},
   "outputs": [],
   "source": [
    "model.add(tf.keras.layers.Dense(units=6, activation='relu'))     #1st Hidden Layer\n",
    "model.add(tf.keras.layers.Dense(units=6, activation='relu'))     #2nd Hidden Layer\n",
    "model.add(tf.keras.layers.Dense(units=1, activation='sigmoid'))  #Output layer"
   ]
  },
  {
   "cell_type": "code",
   "execution_count": 15,
   "metadata": {},
   "outputs": [],
   "source": [
    "model.compile(optimizer='adam', loss='binary_crossentropy', metrics=['accuracy'])"
   ]
  },
  {
   "cell_type": "code",
   "execution_count": 16,
   "metadata": {},
   "outputs": [
    {
     "name": "stdout",
     "output_type": "stream",
     "text": [
      "Epoch 1/150\n",
      "250/250 [==============================] - 0s 328us/step - loss: 0.5612 - accuracy: 0.7446\n",
      "Epoch 2/150\n",
      "250/250 [==============================] - 0s 318us/step - loss: 0.4723 - accuracy: 0.7962\n",
      "Epoch 3/150\n",
      "250/250 [==============================] - 0s 326us/step - loss: 0.4404 - accuracy: 0.8101\n",
      "Epoch 4/150\n",
      "250/250 [==============================] - 0s 310us/step - loss: 0.4232 - accuracy: 0.8200\n",
      "Epoch 5/150\n",
      "250/250 [==============================] - 0s 308us/step - loss: 0.4100 - accuracy: 0.8289\n",
      "Epoch 6/150\n",
      "250/250 [==============================] - 0s 357us/step - loss: 0.3981 - accuracy: 0.8357\n",
      "Epoch 7/150\n",
      "250/250 [==============================] - 0s 403us/step - loss: 0.3875 - accuracy: 0.8411\n",
      "Epoch 8/150\n",
      "250/250 [==============================] - 0s 412us/step - loss: 0.3787 - accuracy: 0.8438\n",
      "Epoch 9/150\n",
      "250/250 [==============================] - 0s 320us/step - loss: 0.3711 - accuracy: 0.8459\n",
      "Epoch 10/150\n",
      "250/250 [==============================] - 0s 315us/step - loss: 0.3653 - accuracy: 0.8489\n",
      "Epoch 11/150\n",
      "250/250 [==============================] - 0s 319us/step - loss: 0.3609 - accuracy: 0.8508\n",
      "Epoch 12/150\n",
      "250/250 [==============================] - 0s 373us/step - loss: 0.3575 - accuracy: 0.8521\n",
      "Epoch 13/150\n",
      "250/250 [==============================] - 0s 315us/step - loss: 0.3549 - accuracy: 0.8539\n",
      "Epoch 14/150\n",
      "250/250 [==============================] - 0s 311us/step - loss: 0.3522 - accuracy: 0.8560\n",
      "Epoch 15/150\n",
      "250/250 [==============================] - 0s 374us/step - loss: 0.3502 - accuracy: 0.8568\n",
      "Epoch 16/150\n",
      "250/250 [==============================] - 0s 329us/step - loss: 0.3486 - accuracy: 0.8564\n",
      "Epoch 17/150\n",
      "250/250 [==============================] - 0s 325us/step - loss: 0.3473 - accuracy: 0.8584\n",
      "Epoch 18/150\n",
      "250/250 [==============================] - 0s 327us/step - loss: 0.3457 - accuracy: 0.8569\n",
      "Epoch 19/150\n",
      "250/250 [==============================] - 0s 366us/step - loss: 0.3445 - accuracy: 0.8602\n",
      "Epoch 20/150\n",
      "250/250 [==============================] - 0s 312us/step - loss: 0.3441 - accuracy: 0.8593\n",
      "Epoch 21/150\n",
      "250/250 [==============================] - 0s 313us/step - loss: 0.3435 - accuracy: 0.8600\n",
      "Epoch 22/150\n",
      "250/250 [==============================] - 0s 306us/step - loss: 0.3424 - accuracy: 0.8594\n",
      "Epoch 23/150\n",
      "250/250 [==============================] - 0s 308us/step - loss: 0.3416 - accuracy: 0.8604\n",
      "Epoch 24/150\n",
      "250/250 [==============================] - 0s 312us/step - loss: 0.3416 - accuracy: 0.8606\n",
      "Epoch 25/150\n",
      "250/250 [==============================] - 0s 394us/step - loss: 0.3406 - accuracy: 0.8615\n",
      "Epoch 26/150\n",
      "250/250 [==============================] - 0s 320us/step - loss: 0.3401 - accuracy: 0.8615\n",
      "Epoch 27/150\n",
      "250/250 [==============================] - 0s 306us/step - loss: 0.3394 - accuracy: 0.8593\n",
      "Epoch 28/150\n",
      "250/250 [==============================] - 0s 313us/step - loss: 0.3391 - accuracy: 0.8619\n",
      "Epoch 29/150\n",
      "250/250 [==============================] - 0s 312us/step - loss: 0.3385 - accuracy: 0.8626\n",
      "Epoch 30/150\n",
      "250/250 [==============================] - 0s 313us/step - loss: 0.3381 - accuracy: 0.8625\n",
      "Epoch 31/150\n",
      "250/250 [==============================] - 0s 324us/step - loss: 0.3379 - accuracy: 0.8621\n",
      "Epoch 32/150\n",
      "250/250 [==============================] - 0s 419us/step - loss: 0.3377 - accuracy: 0.8615\n",
      "Epoch 33/150\n",
      "250/250 [==============================] - 0s 319us/step - loss: 0.3376 - accuracy: 0.8606\n",
      "Epoch 34/150\n",
      "250/250 [==============================] - 0s 353us/step - loss: 0.3371 - accuracy: 0.8622\n",
      "Epoch 35/150\n",
      "250/250 [==============================] - 0s 309us/step - loss: 0.3368 - accuracy: 0.8627\n",
      "Epoch 36/150\n",
      "250/250 [==============================] - 0s 308us/step - loss: 0.3368 - accuracy: 0.8622\n",
      "Epoch 37/150\n",
      "250/250 [==============================] - 0s 308us/step - loss: 0.3364 - accuracy: 0.8619\n",
      "Epoch 38/150\n",
      "250/250 [==============================] - 0s 309us/step - loss: 0.3362 - accuracy: 0.8645\n",
      "Epoch 39/150\n",
      "250/250 [==============================] - 0s 853us/step - loss: 0.3359 - accuracy: 0.8616\n",
      "Epoch 40/150\n",
      "250/250 [==============================] - 0s 340us/step - loss: 0.3360 - accuracy: 0.8654\n",
      "Epoch 41/150\n",
      "250/250 [==============================] - 0s 551us/step - loss: 0.3359 - accuracy: 0.8618\n",
      "Epoch 42/150\n",
      "250/250 [==============================] - 0s 328us/step - loss: 0.3357 - accuracy: 0.8621\n",
      "Epoch 43/150\n",
      "250/250 [==============================] - 0s 325us/step - loss: 0.3355 - accuracy: 0.8630\n",
      "Epoch 44/150\n",
      "250/250 [==============================] - 0s 432us/step - loss: 0.3355 - accuracy: 0.8625\n",
      "Epoch 45/150\n",
      "250/250 [==============================] - 0s 381us/step - loss: 0.3352 - accuracy: 0.8616\n",
      "Epoch 46/150\n",
      "250/250 [==============================] - 0s 419us/step - loss: 0.3353 - accuracy: 0.8614\n",
      "Epoch 47/150\n",
      "250/250 [==============================] - 0s 370us/step - loss: 0.3352 - accuracy: 0.8614\n",
      "Epoch 48/150\n",
      "250/250 [==============================] - 0s 317us/step - loss: 0.3351 - accuracy: 0.8633\n",
      "Epoch 49/150\n",
      "250/250 [==============================] - 0s 314us/step - loss: 0.3346 - accuracy: 0.8644\n",
      "Epoch 50/150\n",
      "250/250 [==============================] - 0s 312us/step - loss: 0.3348 - accuracy: 0.8627\n",
      "Epoch 51/150\n",
      "250/250 [==============================] - 0s 319us/step - loss: 0.3350 - accuracy: 0.8619\n",
      "Epoch 52/150\n",
      "250/250 [==============================] - 0s 324us/step - loss: 0.3346 - accuracy: 0.8635\n",
      "Epoch 53/150\n",
      "250/250 [==============================] - 0s 642us/step - loss: 0.3347 - accuracy: 0.8646\n",
      "Epoch 54/150\n",
      "250/250 [==============================] - 0s 362us/step - loss: 0.3348 - accuracy: 0.8624\n",
      "Epoch 55/150\n",
      "250/250 [==============================] - 0s 463us/step - loss: 0.3346 - accuracy: 0.8626\n",
      "Epoch 56/150\n",
      "250/250 [==============================] - 0s 502us/step - loss: 0.3342 - accuracy: 0.8629\n",
      "Epoch 57/150\n",
      "250/250 [==============================] - 0s 311us/step - loss: 0.3345 - accuracy: 0.8612\n",
      "Epoch 58/150\n",
      "250/250 [==============================] - 0s 316us/step - loss: 0.3343 - accuracy: 0.8633\n",
      "Epoch 59/150\n",
      "250/250 [==============================] - 0s 363us/step - loss: 0.3345 - accuracy: 0.8624\n",
      "Epoch 60/150\n",
      "250/250 [==============================] - 0s 312us/step - loss: 0.3344 - accuracy: 0.8637\n",
      "Epoch 61/150\n",
      "250/250 [==============================] - 0s 357us/step - loss: 0.3340 - accuracy: 0.8629\n",
      "Epoch 62/150\n",
      "250/250 [==============================] - 0s 318us/step - loss: 0.3339 - accuracy: 0.8615\n",
      "Epoch 63/150\n",
      "250/250 [==============================] - 0s 422us/step - loss: 0.3347 - accuracy: 0.8622\n",
      "Epoch 64/150\n",
      "250/250 [==============================] - 0s 578us/step - loss: 0.3342 - accuracy: 0.8625\n",
      "Epoch 65/150\n",
      "250/250 [==============================] - 0s 314us/step - loss: 0.3347 - accuracy: 0.8624\n",
      "Epoch 66/150\n",
      "250/250 [==============================] - 0s 371us/step - loss: 0.3344 - accuracy: 0.8631\n",
      "Epoch 67/150\n",
      "250/250 [==============================] - 0s 321us/step - loss: 0.3340 - accuracy: 0.8634\n",
      "Epoch 68/150\n",
      "250/250 [==============================] - 0s 316us/step - loss: 0.3339 - accuracy: 0.8629\n",
      "Epoch 69/150\n",
      "250/250 [==============================] - 0s 369us/step - loss: 0.3339 - accuracy: 0.8618\n",
      "Epoch 70/150\n",
      "250/250 [==============================] - 0s 314us/step - loss: 0.3340 - accuracy: 0.8624\n",
      "Epoch 71/150\n",
      "250/250 [==============================] - 0s 307us/step - loss: 0.3337 - accuracy: 0.8631\n",
      "Epoch 72/150\n",
      "250/250 [==============================] - 0s 310us/step - loss: 0.3339 - accuracy: 0.8627\n",
      "Epoch 73/150\n",
      "250/250 [==============================] - 0s 312us/step - loss: 0.3336 - accuracy: 0.8636\n",
      "Epoch 74/150\n",
      "250/250 [==============================] - 0s 313us/step - loss: 0.3337 - accuracy: 0.8636\n",
      "Epoch 75/150\n",
      "250/250 [==============================] - 0s 311us/step - loss: 0.3339 - accuracy: 0.8620\n",
      "Epoch 76/150\n",
      "250/250 [==============================] - 0s 312us/step - loss: 0.3337 - accuracy: 0.8635\n",
      "Epoch 77/150\n",
      "250/250 [==============================] - 0s 455us/step - loss: 0.3335 - accuracy: 0.8631\n",
      "Epoch 78/150\n",
      "250/250 [==============================] - 0s 630us/step - loss: 0.3335 - accuracy: 0.8629\n",
      "Epoch 79/150\n",
      "250/250 [==============================] - 0s 320us/step - loss: 0.3336 - accuracy: 0.8637\n",
      "Epoch 80/150\n",
      "250/250 [==============================] - 0s 359us/step - loss: 0.3332 - accuracy: 0.8621\n",
      "Epoch 81/150\n",
      "250/250 [==============================] - 0s 409us/step - loss: 0.3337 - accuracy: 0.8636\n",
      "Epoch 82/150\n",
      "250/250 [==============================] - 0s 306us/step - loss: 0.3335 - accuracy: 0.8624\n",
      "Epoch 83/150\n",
      "250/250 [==============================] - 0s 308us/step - loss: 0.3334 - accuracy: 0.8622\n",
      "Epoch 84/150\n",
      "250/250 [==============================] - 0s 315us/step - loss: 0.3336 - accuracy: 0.8631\n",
      "Epoch 85/150\n",
      "250/250 [==============================] - 0s 515us/step - loss: 0.3337 - accuracy: 0.8633\n",
      "Epoch 86/150\n",
      "250/250 [==============================] - 0s 419us/step - loss: 0.3333 - accuracy: 0.8629\n",
      "Epoch 87/150\n",
      "250/250 [==============================] - 0s 420us/step - loss: 0.3333 - accuracy: 0.8631\n",
      "Epoch 88/150\n",
      "250/250 [==============================] - 0s 378us/step - loss: 0.3332 - accuracy: 0.8626\n",
      "Epoch 89/150\n",
      "250/250 [==============================] - 0s 339us/step - loss: 0.3331 - accuracy: 0.8640\n",
      "Epoch 90/150\n",
      "250/250 [==============================] - 0s 772us/step - loss: 0.3333 - accuracy: 0.8629\n",
      "Epoch 91/150\n",
      "250/250 [==============================] - 0s 406us/step - loss: 0.3331 - accuracy: 0.8639\n",
      "Epoch 92/150\n",
      "250/250 [==============================] - 0s 617us/step - loss: 0.3335 - accuracy: 0.8625\n",
      "Epoch 93/150\n",
      "250/250 [==============================] - 0s 558us/step - loss: 0.3332 - accuracy: 0.8621\n",
      "Epoch 94/150\n",
      "250/250 [==============================] - 0s 567us/step - loss: 0.3329 - accuracy: 0.8644\n",
      "Epoch 95/150\n",
      "250/250 [==============================] - 0s 502us/step - loss: 0.3331 - accuracy: 0.8649\n",
      "Epoch 96/150\n",
      "250/250 [==============================] - 0s 315us/step - loss: 0.3329 - accuracy: 0.8635\n",
      "Epoch 97/150\n",
      "250/250 [==============================] - 0s 382us/step - loss: 0.3335 - accuracy: 0.8652\n",
      "Epoch 98/150\n",
      "250/250 [==============================] - 0s 539us/step - loss: 0.3330 - accuracy: 0.8644\n",
      "Epoch 99/150\n",
      "250/250 [==============================] - 0s 442us/step - loss: 0.3330 - accuracy: 0.8631\n",
      "Epoch 100/150\n",
      "250/250 [==============================] - 0s 609us/step - loss: 0.3328 - accuracy: 0.8634\n",
      "Epoch 101/150\n",
      "250/250 [==============================] - 0s 317us/step - loss: 0.3327 - accuracy: 0.8626\n",
      "Epoch 102/150\n",
      "250/250 [==============================] - 0s 511us/step - loss: 0.3331 - accuracy: 0.8637\n",
      "Epoch 103/150\n",
      "250/250 [==============================] - 0s 1ms/step - loss: 0.3327 - accuracy: 0.8644\n",
      "Epoch 104/150\n",
      "250/250 [==============================] - 0s 512us/step - loss: 0.3329 - accuracy: 0.8648\n",
      "Epoch 105/150\n",
      "250/250 [==============================] - 0s 311us/step - loss: 0.3325 - accuracy: 0.8650\n",
      "Epoch 106/150\n",
      "250/250 [==============================] - 0s 357us/step - loss: 0.3331 - accuracy: 0.8634\n",
      "Epoch 107/150\n",
      "250/250 [==============================] - 0s 504us/step - loss: 0.3324 - accuracy: 0.8627\n",
      "Epoch 108/150\n",
      "250/250 [==============================] - 0s 363us/step - loss: 0.3326 - accuracy: 0.8645\n",
      "Epoch 109/150\n",
      "250/250 [==============================] - 0s 313us/step - loss: 0.3331 - accuracy: 0.8650\n",
      "Epoch 110/150\n",
      "250/250 [==============================] - 0s 332us/step - loss: 0.3329 - accuracy: 0.8643\n",
      "Epoch 111/150\n",
      "250/250 [==============================] - 0s 326us/step - loss: 0.3326 - accuracy: 0.8645\n",
      "Epoch 112/150\n",
      "250/250 [==============================] - 0s 355us/step - loss: 0.3328 - accuracy: 0.8644\n",
      "Epoch 113/150\n",
      "250/250 [==============================] - 0s 358us/step - loss: 0.3325 - accuracy: 0.8622\n",
      "Epoch 114/150\n",
      "250/250 [==============================] - 0s 324us/step - loss: 0.3328 - accuracy: 0.8652\n",
      "Epoch 115/150\n",
      "250/250 [==============================] - 0s 360us/step - loss: 0.3327 - accuracy: 0.8645\n",
      "Epoch 116/150\n",
      "250/250 [==============================] - 0s 411us/step - loss: 0.3327 - accuracy: 0.8641\n",
      "Epoch 117/150\n",
      "250/250 [==============================] - 0s 324us/step - loss: 0.3327 - accuracy: 0.8651\n",
      "Epoch 118/150\n",
      "250/250 [==============================] - 0s 310us/step - loss: 0.3328 - accuracy: 0.8641\n",
      "Epoch 119/150\n",
      "250/250 [==============================] - 0s 318us/step - loss: 0.3325 - accuracy: 0.8648\n",
      "Epoch 120/150\n",
      "250/250 [==============================] - 0s 316us/step - loss: 0.3326 - accuracy: 0.8640\n",
      "Epoch 121/150\n",
      "250/250 [==============================] - 0s 313us/step - loss: 0.3326 - accuracy: 0.8646\n",
      "Epoch 122/150\n",
      "250/250 [==============================] - 0s 308us/step - loss: 0.3328 - accuracy: 0.8654\n",
      "Epoch 123/150\n",
      "250/250 [==============================] - 0s 312us/step - loss: 0.3327 - accuracy: 0.8643\n",
      "Epoch 124/150\n",
      "250/250 [==============================] - 0s 311us/step - loss: 0.3324 - accuracy: 0.8646\n",
      "Epoch 125/150\n",
      "250/250 [==============================] - 0s 351us/step - loss: 0.3323 - accuracy: 0.8645\n",
      "Epoch 126/150\n",
      "250/250 [==============================] - 0s 317us/step - loss: 0.3324 - accuracy: 0.8643\n",
      "Epoch 127/150\n",
      "250/250 [==============================] - 0s 319us/step - loss: 0.3325 - accuracy: 0.8629\n",
      "Epoch 128/150\n",
      "250/250 [==============================] - 0s 319us/step - loss: 0.3325 - accuracy: 0.8636\n",
      "Epoch 129/150\n",
      "250/250 [==============================] - 0s 322us/step - loss: 0.3326 - accuracy: 0.8626\n",
      "Epoch 130/150\n",
      "250/250 [==============================] - 0s 363us/step - loss: 0.3327 - accuracy: 0.8640\n",
      "Epoch 131/150\n",
      "250/250 [==============================] - 0s 356us/step - loss: 0.3323 - accuracy: 0.8640\n",
      "Epoch 132/150\n",
      "250/250 [==============================] - 0s 312us/step - loss: 0.3324 - accuracy: 0.8648\n",
      "Epoch 133/150\n",
      "250/250 [==============================] - 0s 358us/step - loss: 0.3327 - accuracy: 0.8635\n",
      "Epoch 134/150\n",
      "250/250 [==============================] - 0s 313us/step - loss: 0.3326 - accuracy: 0.8639\n",
      "Epoch 135/150\n",
      "250/250 [==============================] - 0s 801us/step - loss: 0.3324 - accuracy: 0.8650\n",
      "Epoch 136/150\n",
      "250/250 [==============================] - 0s 322us/step - loss: 0.3324 - accuracy: 0.8640\n",
      "Epoch 137/150\n",
      "250/250 [==============================] - 0s 623us/step - loss: 0.3321 - accuracy: 0.8649\n",
      "Epoch 138/150\n",
      "250/250 [==============================] - 0s 329us/step - loss: 0.3321 - accuracy: 0.8655\n",
      "Epoch 139/150\n",
      "250/250 [==============================] - 0s 310us/step - loss: 0.3323 - accuracy: 0.8646\n",
      "Epoch 140/150\n",
      "250/250 [==============================] - 0s 317us/step - loss: 0.3325 - accuracy: 0.8637\n",
      "Epoch 141/150\n",
      "250/250 [==============================] - 0s 319us/step - loss: 0.3323 - accuracy: 0.8637\n",
      "Epoch 142/150\n",
      "250/250 [==============================] - 0s 313us/step - loss: 0.3324 - accuracy: 0.8650\n",
      "Epoch 143/150\n",
      "250/250 [==============================] - 0s 309us/step - loss: 0.3322 - accuracy: 0.8635\n",
      "Epoch 144/150\n",
      "250/250 [==============================] - 0s 314us/step - loss: 0.3319 - accuracy: 0.8643\n",
      "Epoch 145/150\n",
      "250/250 [==============================] - 0s 313us/step - loss: 0.3322 - accuracy: 0.8637\n",
      "Epoch 146/150\n",
      "250/250 [==============================] - 0s 308us/step - loss: 0.3320 - accuracy: 0.8641\n",
      "Epoch 147/150\n",
      "250/250 [==============================] - 0s 310us/step - loss: 0.3321 - accuracy: 0.8648\n",
      "Epoch 148/150\n",
      "250/250 [==============================] - 0s 308us/step - loss: 0.3322 - accuracy: 0.8639\n",
      "Epoch 149/150\n",
      "250/250 [==============================] - 0s 313us/step - loss: 0.3320 - accuracy: 0.8643\n",
      "Epoch 150/150\n",
      "250/250 [==============================] - 0s 319us/step - loss: 0.3321 - accuracy: 0.8630\n"
     ]
    },
    {
     "data": {
      "text/plain": [
       "<tensorflow.python.keras.callbacks.History at 0x7fe5d8183c40>"
      ]
     },
     "execution_count": 16,
     "metadata": {},
     "output_type": "execute_result"
    }
   ],
   "source": [
    "model.fit(x_train_scaled, y_train, epochs=150, batch_size=32)"
   ]
  },
  {
   "cell_type": "markdown",
   "metadata": {},
   "source": [
    "## Predicting the single customer"
   ]
  },
  {
   "cell_type": "code",
   "execution_count": 17,
   "metadata": {},
   "outputs": [
    {
     "name": "stdout",
     "output_type": "stream",
     "text": [
      "[[0.02938107]]\n"
     ]
    }
   ],
   "source": [
    "# We must input the independent variables in the same order that we trained our model\n",
    "# The inputs must be in scaled 2-D arrays\n",
    "\n",
    "\n",
    "Pred = model.predict(scaler.transform([[1, 0, 0, 600, 1, 40, 3, 60000, 2, 1, 1, 50000]]))\n",
    "print(Pred)\n",
    "\n",
    "\n",
    "#This gives the probability of Yes to leaving bank, it is low than 0.5 the customer will stay!"
   ]
  },
  {
   "cell_type": "markdown",
   "metadata": {},
   "source": [
    "## Test Set Results"
   ]
  },
  {
   "cell_type": "code",
   "execution_count": 18,
   "metadata": {},
   "outputs": [
    {
     "name": "stdout",
     "output_type": "stream",
     "text": [
      "[[0 0]\n",
      " [0 0]\n",
      " [0 1]\n",
      " ...\n",
      " [0 0]\n",
      " [0 0]\n",
      " [0 0]]\n"
     ]
    }
   ],
   "source": [
    "y_pred = model.predict(x_test_scaled)\n",
    "y_pred = (y_pred > 0.5)\n",
    "\n",
    "print(np.concatenate((y_pred.reshape(len(y_pred),1), y_test.reshape(len(y_test),1)),axis=1))"
   ]
  },
  {
   "cell_type": "code",
   "execution_count": 19,
   "metadata": {},
   "outputs": [
    {
     "name": "stdout",
     "output_type": "stream",
     "text": [
      "[[1531   76]\n",
      " [ 200  193]]\n"
     ]
    },
    {
     "data": {
      "text/plain": [
       "0.862"
      ]
     },
     "execution_count": 19,
     "metadata": {},
     "output_type": "execute_result"
    }
   ],
   "source": [
    "# Confusion Matrix\n",
    "\n",
    "from sklearn.metrics import confusion_matrix, accuracy_score\n",
    "cm = confusion_matrix(y_test, y_pred)\n",
    "print(cm)\n",
    "accuracy_score(y_test, y_pred)"
   ]
  },
  {
   "cell_type": "markdown",
   "metadata": {},
   "source": [
    "### There are 71 false positives & 200 True Negatives\n",
    "### Also the accuracy of the model in unseen dataset is 86%"
   ]
  },
  {
   "cell_type": "code",
   "execution_count": null,
   "metadata": {},
   "outputs": [],
   "source": []
  }
 ],
 "metadata": {
  "kernelspec": {
   "display_name": "Python 3",
   "language": "python",
   "name": "python3"
  },
  "language_info": {
   "codemirror_mode": {
    "name": "ipython",
    "version": 3
   },
   "file_extension": ".py",
   "mimetype": "text/x-python",
   "name": "python",
   "nbconvert_exporter": "python",
   "pygments_lexer": "ipython3",
   "version": "3.8.5"
  }
 },
 "nbformat": 4,
 "nbformat_minor": 4
}
